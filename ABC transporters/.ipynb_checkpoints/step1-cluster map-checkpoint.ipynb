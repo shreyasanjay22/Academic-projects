{
 "cells": [
  {
   "cell_type": "code",
   "execution_count": null,
   "metadata": {},
   "outputs": [],
   "source": [
    "# importing libraries \n",
    "import fastcluster\n",
    "import seaborn as sns\n",
    "import pandas as pd\n",
    "#import numpy as np\n",
    "from matplotlib import pyplot as plt\n",
    "\n",
    "# importing libraries for pca\n",
    "from sklearn.decomposition import PCA\n",
    "from sklearn.preprocessing import StandardScaler\n",
    "from sklearn.decomposition import PCA\n",
    "from sklearn.model_selection import cross_val_score"
   ]
  },
  {
   "cell_type": "code",
   "execution_count": null,
   "metadata": {},
   "outputs": [],
   "source": [
    "# loading the excel file\n",
    "df1 = pd.read_excel (r'/data/Downloads/MACCSbinary.xlsx', sheet_name='MACCSbinary')"
   ]
  },
  {
   "cell_type": "code",
   "execution_count": null,
   "metadata": {},
   "outputs": [],
   "source": [
    "# droping the test set with NA labels\n",
    "df = df1.dropna()\n",
    "#df1 = df1.dropna()\n",
    "# setting pubchem_id as index\n",
    "df = df.set_index(\"pubchem_id\")"
   ]
  },
  {
   "cell_type": "code",
   "execution_count": null,
   "metadata": {},
   "outputs": [],
   "source": [
    "# dropping the column - Drug\n",
    "df.drop('Drug', axis = 1, inplace = True)\n",
    "df"
   ]
  },
  {
   "cell_type": "code",
   "execution_count": null,
   "metadata": {},
   "outputs": [],
   "source": [
    "#df  = df.dropna()\n",
    "# extracting labels, assigning colors to the unique labels and mapping the colors to the labels\n",
    "label = df.pop(\"Label\")\n",
    "lut = dict(zip(label.unique(), \"rb\"))\n",
    "row_colors = label.map(lut)\n",
    "row_colors"
   ]
  },
  {
   "cell_type": "code",
   "execution_count": null,
   "metadata": {},
   "outputs": [],
   "source": [
    "# transforming the dataframe for the heatmap\n",
    "df = df.T"
   ]
  },
  {
   "cell_type": "code",
   "execution_count": null,
   "metadata": {},
   "outputs": [],
   "source": [
    "#new_header = df_t.iloc[0]\n",
    "#df_t = df_t[1:]\n",
    "#df_t.columns = new_header"
   ]
  },
  {
   "cell_type": "code",
   "execution_count": null,
   "metadata": {
    "scrolled": false
   },
   "outputs": [],
   "source": [
    "#df = df.drop(\"Label\", axis=1)\n",
    "# setting the theme for the colors\n",
    "\n",
    "import matplotlib.pyplot as plt\n",
    "import matplotlib.gridspec\n",
    "\n",
    "sns.set_theme(color_codes=True)\n",
    "\n",
    "# cluster map of python with method = complete\n",
    "g = sns.clustermap(df, method= \"complete\",metric='euclidean', figsize=(13, 10), col_colors = row_colors, cmap=\"Greys\", xticklabels=False, yticklabels=False)\n",
    "\n",
    "# plotting dendogram barplot in python\n",
    "for lab in label.unique():\n",
    "    g.ax_col_dendrogram.bar(0, 0, color= lut[lab], label=lab, linewidth=0)\n",
    "    g.ax_col_dendrogram.legend(loc=\"upper left\", ncol = 2)\n",
    "\n"
   ]
  },
  {
   "cell_type": "code",
   "execution_count": null,
   "metadata": {},
   "outputs": [],
   "source": [
    "# dropping the drug and pubchem_id columns\n",
    "df1.drop(['Drug','pubchem_id'], axis = 1, inplace = True)\n",
    "\n",
    "# dropping test set\n",
    "df1 = df1.dropna()\n",
    "df1"
   ]
  },
  {
   "cell_type": "code",
   "execution_count": null,
   "metadata": {},
   "outputs": [],
   "source": [
    "#features = df1.loc[:, ~df1.columns.isin(['Label'])]\n",
    "\n",
    "# listing the column names of the features\n",
    "features = list(df1.columns)\n",
    "features.remove('Label')"
   ]
  },
  {
   "cell_type": "code",
   "execution_count": null,
   "metadata": {},
   "outputs": [],
   "source": [
    "# Separating out the features\n",
    "x = df1.loc[:, features].values"
   ]
  },
  {
   "cell_type": "code",
   "execution_count": null,
   "metadata": {},
   "outputs": [],
   "source": [
    "# Separating out the target\n",
    "y = df1.loc[:,['Label']].values"
   ]
  },
  {
   "cell_type": "code",
   "execution_count": null,
   "metadata": {},
   "outputs": [],
   "source": [
    "# Standardizing the features\n",
    "#x = StandardScaler().fit_transform(x)\n",
    "#x\n"
   ]
  },
  {
   "cell_type": "code",
   "execution_count": null,
   "metadata": {},
   "outputs": [],
   "source": [
    "# performing pca analysis \n",
    "pca = PCA(n_components=2)\n",
    "principalComponents = pca.fit_transform(x)\n",
    "\n",
    "principalDf = pd.DataFrame(data = principalComponents\n",
    "             , columns = ['principal component 1', 'principal component 2'])\n",
    "principalDf = -principalDf\n",
    "\n",
    "pca.explained_variance_ratio_ "
   ]
  },
  {
   "cell_type": "code",
   "execution_count": null,
   "metadata": {},
   "outputs": [],
   "source": [
    "# concatinating final data with labels\n",
    "finalDf = pd.concat([principalDf, df1[['Label']]], axis = 1)\n",
    "finalDf"
   ]
  },
  {
   "cell_type": "code",
   "execution_count": null,
   "metadata": {},
   "outputs": [],
   "source": [
    "# PCA plot\n",
    "fig = plt.figure(figsize = (10,10))\n",
    "ax = fig.add_subplot(1,1,1) \n",
    "ax.set_xlabel('Principal Component 1', fontsize = 15)\n",
    "ax.set_ylabel('Principal Component 2', fontsize = 15)\n",
    "ax.set_title('2 component PCA', fontsize = 20)\n",
    "Label = ['Sensitive', 'Resistant']\n",
    "colors = ['b', 'r']\n",
    "for target, color in zip(Label,colors):\n",
    "    indicesToKeep = finalDf['Label'] == target\n",
    "    ax.scatter(finalDf.loc[indicesToKeep, 'principal component 1']\n",
    "               , finalDf.loc[indicesToKeep, 'principal component 2']\n",
    "               , c = color\n",
    "               , s = 15)\n",
    "ax.legend(Label)\n",
    "ax.grid()"
   ]
  },
  {
   "cell_type": "code",
   "execution_count": null,
   "metadata": {},
   "outputs": [],
   "source": [
    "# plotly\n",
    "import plotly.express as px\n",
    "fig = plt.figure(figsize = (10,10))\n",
    "px.scatter(finalDf, x= 'principal component 1', y= 'principal component 2', color= finalDf['Label'], width= 800, height=700)"
   ]
  },
  {
   "cell_type": "code",
   "execution_count": null,
   "metadata": {},
   "outputs": [],
   "source": [
    "# Performing TSNE\n",
    "time_start = time.time()\n",
    "tsne = TSNE(n_components=2, verbose=1, perplexity=40, n_iter=300)\n",
    "tsne_results = tsne.fit_transform(x)\n",
    "print('t-SNE done! Time elapsed: {} seconds'.format(time.time()-time_start))"
   ]
  },
  {
   "cell_type": "code",
   "execution_count": null,
   "metadata": {},
   "outputs": [],
   "source": [
    "df2 = df.T\n",
    "df2['tsne-2d-one'] = tsne_results[:,0]\n",
    "df2['tsne-2d-two'] = tsne_results[:,1]"
   ]
  },
  {
   "cell_type": "code",
   "execution_count": null,
   "metadata": {},
   "outputs": [],
   "source": [
    "finalDf = pd.concat([df2, label], axis = 1)\n",
    "finalDf"
   ]
  },
  {
   "cell_type": "code",
   "execution_count": null,
   "metadata": {},
   "outputs": [],
   "source": [
    "# Plotting TSNE\n",
    "plt.figure(figsize=(10,10))\n",
    "#seaborn.set(rc={'axes.facecolor':'white', 'figure.facecolor':'white'})\n",
    "sns.scatterplot(\n",
    "    x=\"tsne-2d-one\", y=\"tsne-2d-two\",\n",
    "    hue = \"Label\",\n",
    "    palette=['blue','red'],\n",
    "    data= finalDf,\n",
    "    legend=\"full\",\n",
    "    alpha=1,\n",
    ")\n"
   ]
  }
 ],
 "metadata": {
  "kernelspec": {
   "display_name": "Python 3 (ipykernel)",
   "language": "python",
   "name": "python3"
  },
  "language_info": {
   "codemirror_mode": {
    "name": "ipython",
    "version": 3
   },
   "file_extension": ".py",
   "mimetype": "text/x-python",
   "name": "python",
   "nbconvert_exporter": "python",
   "pygments_lexer": "ipython3",
   "version": "3.9.7"
  }
 },
 "nbformat": 4,
 "nbformat_minor": 4
}
